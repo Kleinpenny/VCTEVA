{
 "cells": [
  {
   "cell_type": "code",
   "execution_count": 34,
   "metadata": {},
   "outputs": [
    {
     "data": {
      "text/plain": [
       "'Hello! How can I assist you today?'"
      ]
     },
     "execution_count": 34,
     "metadata": {},
     "output_type": "execute_result"
    }
   ],
   "source": [
    "import boto3\n",
    "import json\n",
    "brt = boto3.client(service_name='bedrock-runtime')\n",
    "\n",
    "message = \"hi, how are you?\\n\"\n",
    "\n",
    "# system_message = '''You are hired as a data scientist on a new VALORANT esports team and \n",
    "#     have been tasked by the team’s general manager to support the scouting and recruitment \n",
    "#     process, please answer the above question.\n",
    "#     '''\n",
    "# message += system_message\n",
    "\n",
    "body = json.dumps({\n",
    "    \"inputText\": message,\n",
    "    \"textGenerationConfig\": {\n",
    "        \"maxTokenCount\": 2048,\n",
    "        \"stopSequences\": [\"User:\"],\n",
    "        \"temperature\": 0,\n",
    "        \"topP\": 0.9\n",
    "    }\n",
    "})\n",
    "\n",
    "modelId = 'amazon.titan-text-express-v1'\n",
    "accept = 'application/json'\n",
    "contentType = 'application/json'\n",
    "\n",
    "response = brt.invoke_model(body=body, modelId=modelId, accept=accept, contentType=contentType)\n",
    "\n",
    "response_body = json.loads(response.get('body').read())\n",
    "\n",
    "output_text = response_body['results'][0]['outputText']\n",
    "\n",
    "output_text"
   ]
  },
  {
   "cell_type": "code",
   "execution_count": 23,
   "metadata": {},
   "outputs": [
    {
     "data": {
      "text/plain": [
       "{'inputTextTokenCount': 7,\n",
       " 'results': [{'tokenCount': 9,\n",
       "   'outputText': 'Hello! How can I help you?',\n",
       "   'completionReason': 'FINISH'}]}"
      ]
     },
     "execution_count": 23,
     "metadata": {},
     "output_type": "execute_result"
    }
   ],
   "source": [
    "response_body = json.loads(response.get('body').read())\n",
    "response_body"
   ]
  },
  {
   "cell_type": "code",
   "execution_count": 26,
   "metadata": {},
   "outputs": [
    {
     "data": {
      "text/plain": [
       "'Hello! How can I help you?'"
      ]
     },
     "execution_count": 26,
     "metadata": {},
     "output_type": "execute_result"
    }
   ],
   "source": [
    "# 从response_body中获取outputText\n",
    "output_text = response_body['results'][0]['outputText']\n",
    "output_text"
   ]
  },
  {
   "cell_type": "code",
   "execution_count": 38,
   "metadata": {},
   "outputs": [
    {
     "name": "stdout",
     "output_type": "stream",
     "text": [
      "\n",
      "The VALORANT esports team is looking to hire a data scientist to support the scouting and recruitment process. The general manager has tasked the data scientist with providing insights and analysis to help the team identify and recruit talented players. The data scientist will work closely with the team’s coaches and management to gather and analyze player data, including game statistics, performance metrics, and video footage. They will use advanced analytics techniques to identify patterns and trends in player performance and develop predictive models to help the team make informed decisions about player recruitment. The data scientist will also be responsible for developing and maintaining a database of player information and statistics, which will be used by the team’s coaching staff and management to track player progress and make adjustments to the team’s strategy. In addition to their technical skills, the data scientist will need to have strong communication and interpersonal skills, as they will be working closely with the team’s coaches and management to understand their needs and provide insights that can help the team succeed. They will also need to be able to work under pressure and meet tight deadlines, as the scouting and recruitment process is critical to the team’s success. Overall, the data scientist will play a critical role in helping the VALORANT esports team identify and recruit talented players, and will be a key member of the team’s coaching and management staff."
     ]
    }
   ],
   "source": [
    "import boto3\n",
    "import json\n",
    "brt = boto3.client(service_name='bedrock-runtime')\n",
    "\n",
    "message = \"hi, how are you?\\n\"\n",
    "\n",
    "system_message = '''You are hired as a data scientist on a new VALORANT esports team and \n",
    "    have been tasked by the team’s general manager to support the scouting and recruitment \n",
    "    process, please answer the above question.\n",
    "    '''\n",
    "\n",
    "message += system_message\n",
    "\n",
    "body = json.dumps({\n",
    "    \"inputText\": message,\n",
    "    \"textGenerationConfig\": {\n",
    "        \"maxTokenCount\": 2048,\n",
    "        \"stopSequences\": [\"User:\"],\n",
    "        \"temperature\": 0,\n",
    "        \"topP\": 0.9\n",
    "    }\n",
    "})\n",
    "\n",
    "modelId = 'amazon.titan-text-express-v1'\n",
    "accept = 'application/json'\n",
    "contentType = 'application/json'\n",
    "\n",
    "response = brt.invoke_model_with_response_stream(body=body, modelId=modelId, accept=accept, contentType=contentType)\n",
    "\n",
    "stream = response.get('body')\n",
    "if stream:\n",
    "    for event in stream:\n",
    "        chunk = event.get('chunk')\n",
    "        print(chunk)\n",
    "        if chunk:\n",
    "            print(json.loads(chunk.get('bytes')).get('outputText'), end='')"
   ]
  }
 ],
 "metadata": {
  "kernelspec": {
   "display_name": "eva",
   "language": "python",
   "name": "python3"
  },
  "language_info": {
   "codemirror_mode": {
    "name": "ipython",
    "version": 3
   },
   "file_extension": ".py",
   "mimetype": "text/x-python",
   "name": "python",
   "nbconvert_exporter": "python",
   "pygments_lexer": "ipython3",
   "version": "3.10.15"
  }
 },
 "nbformat": 4,
 "nbformat_minor": 2
}
